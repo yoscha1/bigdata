{
 "cells": [
  {
   "cell_type": "code",
   "execution_count": 173,
   "id": "904d106a-32b8-4fa5-b78c-1d0e306bf5d5",
   "metadata": {},
   "outputs": [],
   "source": [
    "from __future__ import print_function\n",
    "import os\n",
    "import numpy as np\n",
    "import sklearn.metrics as metrics\n",
    "from keras.datasets import mnist\n",
    "from tensorflow.keras.utils import to_categorical,plot_model\n",
    "from keras.models import Sequential\n",
    "from keras.layers import Dense, Dropout, Flatten\n",
    "from keras.layers import Conv2D, MaxPooling2D\n",
    "from keras.losses import categorical_crossentropy\n",
    "from keras.preprocessing.image import img_to_array, load_img\n",
    "from keras import backend as K\n",
    "import matplotlib.pyplot as plt\n",
    "import seaborn as sns\n",
    "from yellowbrick.classifier import ROCAUC\n",
    "import warnings\n",
    "warnings.filterwarnings(\"ignore\")"
   ]
  },
  {
   "cell_type": "code",
   "execution_count": 174,
   "id": "d35223c9-0662-49e4-99b8-8283e11a13b4",
   "metadata": {},
   "outputs": [],
   "source": [
    "batch_size = 128\n",
    "num_classes = 10\n",
    "epochs = 1"
   ]
  },
  {
   "cell_type": "code",
   "execution_count": 175,
   "id": "79073433-52af-4786-b914-fd1d637267e6",
   "metadata": {},
   "outputs": [],
   "source": [
    "img_rows, img_cols = 28, 28\n",
    "(x_train, y_train), (x_test, y_test) = mnist.load_data()"
   ]
  },
  {
   "cell_type": "code",
   "execution_count": 176,
   "id": "01b28c94-4582-4e28-b630-d26974bd66a4",
   "metadata": {},
   "outputs": [
    {
     "name": "stdout",
     "output_type": "stream",
     "text": [
      "0 Data shape: (28, 28) ; Label: 5\n",
      "1 Data shape: (28, 28) ; Label: 0\n",
      "2 Data shape: (28, 28) ; Label: 4\n",
      "3 Data shape: (28, 28) ; Label: 1\n",
      "4 Data shape: (28, 28) ; Label: 9\n",
      "5 Data shape: (28, 28) ; Label: 2\n",
      "6 Data shape: (28, 28) ; Label: 1\n",
      "7 Data shape: (28, 28) ; Label: 3\n",
      "8 Data shape: (28, 28) ; Label: 1\n"
     ]
    },
    {
     "data": {
      "image/png": "[encoded data removed]",
      "text/plain": [
       "<Figure size 800x550 with 9 Axes>"
      ]
     },
     "metadata": {},
     "output_type": "display_data"
    }
   ],
   "source": [
    "for i in range(0,9):\n",
    "    print(i,'Data shape:',x_train[i].shape,'; Label:', y_train[i])\n",
    "    plt.subplot(1,10,1 + i)\n",
    "    plt.imshow(x_train[i], cmap=plt.get_cmap('gray'))\n",
    "plt.show()\n"
   ]
  },
  {
   "cell_type": "code",
   "execution_count": 177,
   "id": "bb0cc629-7fd7-4781-bcce-49dcd27c763b",
   "metadata": {},
   "outputs": [
    {
     "data": {
      "text/plain": [
       "5"
      ]
     },
     "execution_count": 177,
     "metadata": {},
     "output_type": "execute_result"
    }
   ],
   "source": [
    "list3=[]\n",
    "for i in range(0,500):\n",
    "    if y_train[i]==3:\n",
    "        list3.append(i)\n",
    "a=len(list3)\n",
    "if np.mod(a,10)==0:\n",
    "    k=a//10\n",
    "else:\n",
    "    k=a//10+1\n",
    "k"
   ]
  },
  {
   "cell_type": "code",
   "execution_count": 178,
   "id": "a51a3644-1498-40f2-9199-994925f56b02",
   "metadata": {},
   "outputs": [],
   "source": [
    "if K.image_data_format() == 'channels_first':\n",
    "    x_train = x_train.reshape(x_train.shape[0], 1, img_rows, img_cols)\n",
    "    x_test = x_test.reshape(x_test.shape[0], 1, img_rows, img_cols)\n",
    "    input_shape = (1, img_rows, img_cols)\n",
    "else:\n",
    "    x_train = x_train.reshape(x_train.shape[0], img_rows, img_cols, 1)\n",
    "    x_test = x_test.reshape(x_test.shape[0], img_rows, img_cols, 1)\n",
    "    input_shape = (img_rows, img_cols, 1)"
   ]
  },
  {
   "cell_type": "code",
   "execution_count": 179,
   "id": "deceab76-9fa8-4200-ad81-0a3c0aaf7576",
   "metadata": {},
   "outputs": [],
   "source": [
    "x_train = x_train.astype('float32')\n",
    "x_test = x_test.astype('float32')\n",
    "x_train /= 255\n",
    "x_test /= 255\n",
    "y_train = to_categorical(y_train, num_classes)\n",
    "y_test = to_categorical(y_test, num_classes)"
   ]
  },
  {
   "cell_type": "code",
   "execution_count": 180,
   "id": "448bca68-8ee2-4cd5-9bda-2cb4fc555885",
   "metadata": {},
   "outputs": [
    {
     "name": "stdout",
     "output_type": "stream",
     "text": [
      "\u001b[1m469/469\u001b[0m \u001b[32m━━━━━━━━━━━━━━━━━━━━\u001b[0m\u001b[37m\u001b[0m \u001b[1m7s\u001b[0m 14ms/step - accuracy: 0.8132 - loss: 0.5900 - val_accuracy: 0.9751 - val_loss: 0.0798\n"
     ]
    },
    {
     "data": {
      "text/plain": [
       "<keras.src.callbacks.history.History at 0x3104eda00>"
      ]
     },
     "execution_count": 180,
     "metadata": {},
     "output_type": "execute_result"
    }
   ],
   "source": [
    "#MODEL 1\n",
    "model = Sequential()\n",
    "#1st Convolutional layer\n",
    "model.add(Conv2D(24, kernel_size=(5, 5),strides=1,\n",
    "                 activation='relu',\n",
    "                 input_shape=input_shape))\n",
    "#1st Pooling layer\n",
    "model.add(MaxPooling2D(pool_size=(2, 2),strides=2,name='PoolLayer'))\n",
    "#1st Dropout layer to avoid overfitting\n",
    "model.add(Dropout(0.25))\n",
    "#Flatten n-dimensions to be 1-dimension\n",
    "model.add(Flatten())\n",
    "#Learning layer\n",
    "model.add(Dense(128, activation='relu',name='HiddenLayer'))\n",
    "#2nd Dropout layer to avoid overfitting\n",
    "model.add(Dropout(0.5))\n",
    "#Output layer\n",
    "model.add(Dense(num_classes, activation='softmax',name='OutputLayer'))\n",
    "model.compile(loss=categorical_crossentropy,optimizer='Adam',metrics=['accuracy'])\n",
    "model.fit(x_train, y_train,\n",
    "          batch_size=batch_size,\n",
    "          epochs=epochs,\n",
    "          verbose=1,\n",
    "          validation_data=(x_test, y_test))"
   ]
  },
  {
   "cell_type": "code",
   "execution_count": 181,
   "id": "e670f2dd-1c3d-4ac8-abb6-538f1ee89de4",
   "metadata": {},
   "outputs": [
    {
     "name": "stdout",
     "output_type": "stream",
     "text": [
      "Model 1 Test loss: 0.08045138418674469\n",
      "Model 1 Test accuracy: 0.9750999808311462\n"
     ]
    }
   ],
   "source": [
    "score = model.evaluate(x_test, y_test, verbose=0)\n",
    "print('Model 1 Test loss:', score[0])\n",
    "print('Model 1 Test accuracy:', score[1])"
   ]
  },
  {
   "cell_type": "code",
   "execution_count": 182,
   "id": "12460fe4-571e-4faa-a952-db8c491180a6",
   "metadata": {},
   "outputs": [
    {
     "name": "stdout",
     "output_type": "stream",
     "text": [
      "\u001b[1m469/469\u001b[0m \u001b[32m━━━━━━━━━━━━━━━━━━━━\u001b[0m\u001b[37m\u001b[0m \u001b[1m9s\u001b[0m 19ms/step - accuracy: 0.7842 - loss: 0.6685 - val_accuracy: 0.9834 - val_loss: 0.0525\n"
     ]
    },
    {
     "data": {
      "text/plain": [
       "<keras.src.callbacks.history.History at 0x319b03f20>"
      ]
     },
     "execution_count": 182,
     "metadata": {},
     "output_type": "execute_result"
    }
   ],
   "source": [
    "#MODEL 2\n",
    "model = Sequential()\n",
    "#1st Convolutional layer\n",
    "model.add(Conv2D(24, kernel_size=(5, 5),strides=1,\n",
    "                 activation='relu',\n",
    "                 input_shape=input_shape))\n",
    "#1st Pooling layer\n",
    "model.add(MaxPooling2D(pool_size=(2, 2),strides=2,name='PoolLayer'))\n",
    "#2nd Convolutional layer\n",
    "model.add(Conv2D(48, (5, 5), activation='relu'))\n",
    "#2nd Pooling layer\n",
    "model.add(MaxPooling2D(pool_size=(2, 2), strides=2, name='PoolLayer2'))\n",
    "\n",
    "#1st Dropout layer to avoid overfitting\n",
    "model.add(Dropout(0.25))\n",
    "#Flatten n-dimensions to be 1-dimension\n",
    "model.add(Flatten())\n",
    "#Learning layer\n",
    "model.add(Dense(128, activation='relu',name='HiddenLayer'))\n",
    "#2nd Dropout layer to avoid overfitting\n",
    "model.add(Dropout(0.5))\n",
    "#Output layer\n",
    "model.add(Dense(num_classes, activation='softmax',name='OutputLayer'))\n",
    "model.compile(loss=categorical_crossentropy,optimizer='Adam',metrics=['accuracy'])\n",
    "model.fit(x_train, y_train,\n",
    "          batch_size=batch_size,\n",
    "          epochs=epochs,\n",
    "          verbose=1,\n",
    "          validation_data=(x_test, y_test))"
   ]
  },
  {
   "cell_type": "code",
   "execution_count": 183,
   "id": "8d85f30a-d345-447f-8e6f-a7c246c7a490",
   "metadata": {},
   "outputs": [
    {
     "name": "stdout",
     "output_type": "stream",
     "text": [
      "Model 2 Test loss: 0.05297654867172241\n",
      "Model 2 Test accuracy: 0.9833999872207642\n"
     ]
    }
   ],
   "source": [
    "score = model.evaluate(x_test, y_test, verbose=0)\n",
    "print('Model 2 Test loss:', score[0])\n",
    "print('Model 2 Test accuracy:', score[1])"
   ]
  },
  {
   "cell_type": "code",
   "execution_count": 184,
   "id": "1e5e3575-9029-47f0-96f0-c086012c6ef4",
   "metadata": {},
   "outputs": [
    {
     "name": "stdout",
     "output_type": "stream",
     "text": [
      "\u001b[1m469/469\u001b[0m \u001b[32m━━━━━━━━━━━━━━━━━━━━\u001b[0m\u001b[37m\u001b[0m \u001b[1m12s\u001b[0m 24ms/step - accuracy: 0.7712 - loss: 0.6888 - val_accuracy: 0.9844 - val_loss: 0.0483\n"
     ]
    },
    {
     "data": {
      "text/plain": [
       "<keras.src.callbacks.history.History at 0x31487b350>"
      ]
     },
     "execution_count": 184,
     "metadata": {},
     "output_type": "execute_result"
    }
   ],
   "source": [
    "#MODEL 3\n",
    "model = Sequential()\n",
    "#1st Convolutional layer\n",
    "model.add(Conv2D(24, kernel_size=(5, 5),strides=1,\n",
    "                 activation='relu',\n",
    "                 input_shape=input_shape))\n",
    "#1st Pooling layer\n",
    "model.add(MaxPooling2D(pool_size=(2, 2),strides=2,name='PoolLayer'))\n",
    "#2nd Convolutional layer\n",
    "model.add(Conv2D(48, (5, 5), activation='relu'))\n",
    "#2nd Pooling layer\n",
    "model.add(MaxPooling2D(pool_size=(2, 2), strides=2, name='PoolLayer2'))\n",
    "# 3rd Convolutional layer\n",
    "model.add(Conv2D(64, (5, 5), activation='relu', padding='same'))\n",
    "#3rd Pooling layer\n",
    "model.add(MaxPooling2D(pool_size=(2,2), strides=2, name='PoolLayer3'))\n",
    "\n",
    "#1st Dropout layer to avoid overfitting\n",
    "model.add(Dropout(0.25))\n",
    "#Flatten n-dimensions to be 1-dimension\n",
    "model.add(Flatten())\n",
    "#Learning layer\n",
    "model.add(Dense(128, activation='relu',name='HiddenLayer'))\n",
    "#2nd Dropout layer to avoid overfitting\n",
    "model.add(Dropout(0.5))\n",
    "#Output layer\n",
    "model.add(Dense(num_classes, activation='softmax',name='OutputLayer'))\n",
    "model.compile(loss=categorical_crossentropy,optimizer='Adam',metrics=['accuracy'])\n",
    "model.fit(x_train, y_train,\n",
    "          batch_size=batch_size,\n",
    "          epochs=epochs,\n",
    "          verbose=1,\n",
    "          validation_data=(x_test, y_test))"
   ]
  },
  {
   "cell_type": "code",
   "execution_count": 185,
   "id": "ecf608b4-e06e-4113-b596-2d85043a01e7",
   "metadata": {},
   "outputs": [
    {
     "name": "stdout",
     "output_type": "stream",
     "text": [
      "Model 3 Test loss: 0.048795100301504135\n",
      "Model 3 Test accuracy: 0.9843999743461609\n"
     ]
    }
   ],
   "source": [
    "score = model.evaluate(x_test, y_test, verbose=0)\n",
    "print('Model 3 Test loss:', score[0])\n",
    "print('Model 3 Test accuracy:', score[1])"
   ]
  },
  {
   "cell_type": "code",
   "execution_count": 186,
   "id": "d576a633-9725-48ed-9d04-ac6bcdb29936",
   "metadata": {},
   "outputs": [
    {
     "name": "stdout",
     "output_type": "stream",
     "text": [
      "\u001b[1m313/313\u001b[0m \u001b[32m━━━━━━━━━━━━━━━━━━━━\u001b[0m\u001b[37m\u001b[0m \u001b[1m1s\u001b[0m 3ms/step\n"
     ]
    }
   ],
   "source": [
    "y_pred=model.predict(x_test)"
   ]
  },
  {
   "cell_type": "code",
   "execution_count": 187,
   "id": "23bf6bac-0d15-4954-96ca-6777de496a0c",
   "metadata": {},
   "outputs": [
    {
     "data": {
      "text/plain": [
       "array([[ 977,    0,    0,    0,    0,    0,    0,    1,    2,    0],\n",
       "       [   0, 1129,    2,    2,    0,    0,    1,    1,    0,    0],\n",
       "       [   4,    3, 1015,    1,    1,    0,    2,    4,    2,    0],\n",
       "       [   0,    0,    1,  999,    0,    4,    0,    2,    4,    0],\n",
       "       [   0,    0,    1,    0,  970,    0,    4,    0,    2,    5],\n",
       "       [   1,    0,    0,    5,    1,  879,    2,    1,    2,    1],\n",
       "       [   7,    2,    1,    1,    1,    1,  945,    0,    0,    0],\n",
       "       [   1,    8,   13,    6,    0,    0,    0,  992,    3,    5],\n",
       "       [   3,    1,    1,    0,    2,    0,    1,    1,  963,    2],\n",
       "       [   1,    4,    0,    3,    6,    4,    1,    7,    8,  975]])"
      ]
     },
     "execution_count": 187,
     "metadata": {},
     "output_type": "execute_result"
    }
   ],
   "source": [
    "matrix = metrics.confusion_matrix(y_test.argmax(axis=1), y_pred.argmax(axis=1))\n",
    "matrix"
   ]
  },
  {
   "cell_type": "code",
   "execution_count": 188,
   "id": "96b5fda0-67df-4f00-a77b-a6b2bc6630bb",
   "metadata": {},
   "outputs": [
    {
     "data": {
      "image/png": "[encoded data removed]",
      "text/plain": [
       "<Figure size 800x550 with 2 Axes>"
      ]
     },
     "metadata": {},
     "output_type": "display_data"
    }
   ],
   "source": [
    "sns.heatmap(matrix, annot=True, fmt=\"d\")\n",
    "plt.xlabel('Predicted')\n",
    "plt.ylabel('actual')\n",
    "plt.show()"
   ]
  },
  {
   "cell_type": "code",
   "execution_count": 194,
   "id": "82b238e3-b92e-4f40-8f56-aede142ec656",
   "metadata": {
    "scrolled": true
   },
   "outputs": [
    {
     "name": "stdout",
     "output_type": "stream",
     "text": [
      "\u001b[1m469/469\u001b[0m \u001b[32m━━━━━━━━━━━━━━━━━━━━\u001b[0m\u001b[37m\u001b[0m \u001b[1m11s\u001b[0m 24ms/step - accuracy: 0.7672 - loss: 0.7009 - val_accuracy: 0.9785 - val_loss: 0.0643\n",
      "\u001b[1m1/1\u001b[0m \u001b[32m━━━━━━━━━━━━━━━━━━━━\u001b[0m\u001b[37m\u001b[0m \u001b[1m0s\u001b[0m 28ms/step\n",
      "------------------\n",
      "The predicted output for image 1 is: 1\n",
      "------------------\n"
     ]
    },
    {
     "data": {
      "image/png": "[encoded data removed]",
      "text/plain": [
       "<Figure size 200x200 with 1 Axes>"
      ]
     },
     "metadata": {},
     "output_type": "display_data"
    },
    {
     "name": "stdout",
     "output_type": "stream",
     "text": [
      "\u001b[1m1/1\u001b[0m \u001b[32m━━━━━━━━━━━━━━━━━━━━\u001b[0m\u001b[37m\u001b[0m \u001b[1m0s\u001b[0m 8ms/step\n",
      "------------------\n",
      "The predicted output for image 2 is: 2\n",
      "------------------\n"
     ]
    },
    {
     "data": {
      "image/png": "[encoded data removed]",
      "text/plain": [
       "<Figure size 200x200 with 1 Axes>"
      ]
     },
     "metadata": {},
     "output_type": "display_data"
    },
    {
     "name": "stdout",
     "output_type": "stream",
     "text": [
      "\u001b[1m1/1\u001b[0m \u001b[32m━━━━━━━━━━━━━━━━━━━━\u001b[0m\u001b[37m\u001b[0m \u001b[1m0s\u001b[0m 8ms/step\n",
      "------------------\n",
      "The predicted output for image 3 is: 3\n",
      "------------------\n"
     ]
    },
    {
     "data": {
      "image/png": "[encoded data removed]",
      "text/plain": [
       "<Figure size 200x200 with 1 Axes>"
      ]
     },
     "metadata": {},
     "output_type": "display_data"
    },
    {
     "name": "stdout",
     "output_type": "stream",
     "text": [
      "\u001b[1m1/1\u001b[0m \u001b[32m━━━━━━━━━━━━━━━━━━━━\u001b[0m\u001b[37m\u001b[0m \u001b[1m0s\u001b[0m 8ms/step\n",
      "------------------\n",
      "The predicted output for image 4 is: 4\n",
      "------------------\n"
     ]
    },
    {
     "data": {
      "image/png": "[encoded data removed]",
      "text/plain": [
       "<Figure size 200x200 with 1 Axes>"
      ]
     },
     "metadata": {},
     "output_type": "display_data"
    },
    {
     "name": "stdout",
     "output_type": "stream",
     "text": [
      "\u001b[1m1/1\u001b[0m \u001b[32m━━━━━━━━━━━━━━━━━━━━\u001b[0m\u001b[37m\u001b[0m \u001b[1m0s\u001b[0m 7ms/step\n",
      "------------------\n",
      "The predicted output for image 5 is: 5\n",
      "------------------\n"
     ]
    },
    {
     "data": {
      "image/png": "[encoded data removed]",
      "text/plain": [
       "<Figure size 200x200 with 1 Axes>"
      ]
     },
     "metadata": {},
     "output_type": "display_data"
    },
    {
     "name": "stdout",
     "output_type": "stream",
     "text": [
      "\u001b[1m1/1\u001b[0m \u001b[32m━━━━━━━━━━━━━━━━━━━━\u001b[0m\u001b[37m\u001b[0m \u001b[1m0s\u001b[0m 8ms/step\n",
      "------------------\n",
      "The predicted output for image 6 is: 6\n",
      "------------------\n"
     ]
    },
    {
     "data": {
      "image/png": "[encoded data removed]",
      "text/plain": [
       "<Figure size 200x200 with 1 Axes>"
      ]
     },
     "metadata": {},
     "output_type": "display_data"
    },
    {
     "name": "stdout",
     "output_type": "stream",
     "text": [
      "\u001b[1m1/1\u001b[0m \u001b[32m━━━━━━━━━━━━━━━━━━━━\u001b[0m\u001b[37m\u001b[0m \u001b[1m0s\u001b[0m 8ms/step\n",
      "------------------\n",
      "The predicted output for image 7 is: 7\n",
      "------------------\n"
     ]
    },
    {
     "data": {
      "image/png": "[encoded data removed]",
      "text/plain": [
       "<Figure size 200x200 with 1 Axes>"
      ]
     },
     "metadata": {},
     "output_type": "display_data"
    },
    {
     "name": "stdout",
     "output_type": "stream",
     "text": [
      "\u001b[1m1/1\u001b[0m \u001b[32m━━━━━━━━━━━━━━━━━━━━\u001b[0m\u001b[37m\u001b[0m \u001b[1m0s\u001b[0m 8ms/step\n",
      "------------------\n",
      "The predicted output for image 8 is: 8\n",
      "------------------\n"
     ]
    },
    {
     "data": {
      "image/png": "[encoded data removed]",
      "text/plain": [
       "<Figure size 200x200 with 1 Axes>"
      ]
     },
     "metadata": {},
     "output_type": "display_data"
    },
    {
     "name": "stdout",
     "output_type": "stream",
     "text": [
      "\u001b[1m1/1\u001b[0m \u001b[32m━━━━━━━━━━━━━━━━━━━━\u001b[0m\u001b[37m\u001b[0m \u001b[1m0s\u001b[0m 8ms/step\n",
      "------------------\n",
      "The predicted output for image 9 is: 9\n",
      "------------------\n"
     ]
    },
    {
     "data": {
      "image/png": "[encoded data removed]",
      "text/plain": [
       "<Figure size 200x200 with 1 Axes>"
      ]
     },
     "metadata": {},
     "output_type": "display_data"
    }
   ],
   "source": [
    "import cv2 as cv\n",
    "#MODEL 3\n",
    "model = Sequential()\n",
    "#1st Convolutional layer\n",
    "model.add(Conv2D(24, kernel_size=(5, 5),strides=1,\n",
    "                 activation='relu',\n",
    "                 input_shape=input_shape))\n",
    "#1st Pooling layer\n",
    "model.add(MaxPooling2D(pool_size=(2, 2),strides=2,name='PoolLayer'))\n",
    "#2nd Convolutional layer\n",
    "model.add(Conv2D(48, (5, 5), activation='relu'))\n",
    "#2nd Pooling layer\n",
    "model.add(MaxPooling2D(pool_size=(2, 2), strides=2, name='PoolLayer2'))\n",
    "# 3rd Convolutional layer\n",
    "model.add(Conv2D(64, (5, 5), activation='relu', padding='same'))\n",
    "#3rd Pooling layer\n",
    "model.add(MaxPooling2D(pool_size=(2,2), strides=2, name='PoolLayer3'))\n",
    "\n",
    "#1st Dropout layer to avoid overfitting\n",
    "model.add(Dropout(0.25))\n",
    "#Flatten n-dimensions to be 1-dimension\n",
    "model.add(Flatten())\n",
    "#Learning layer\n",
    "model.add(Dense(128, activation='relu',name='HiddenLayer'))\n",
    "#2nd Dropout layer to avoid overfitting\n",
    "model.add(Dropout(0.5))\n",
    "#Output layer\n",
    "model.add(Dense(num_classes, activation='softmax',name='OutputLayer'))\n",
    "model.compile(loss=categorical_crossentropy,optimizer='Adam',metrics=['accuracy'])\n",
    "model.fit(x_train, y_train,\n",
    "          batch_size=batch_size,\n",
    "          epochs=epochs,\n",
    "          verbose=1,\n",
    "          validation_data=(x_test, y_test))\n",
    "\n",
    "for x in range(1, 10):\n",
    "    try:\n",
    "        img = cv.imread(f'HandWriting4/{x}.png', cv.IMREAD_GRAYSCALE)\n",
    "        if img is None:\n",
    "            raise ValueError(f\"Error reading image: HandWriting4/{x}.png\")\n",
    "        img = cv.resize(img, (28, 28))\n",
    "        img = np.invert(img)\n",
    "        img = np.array([img])\n",
    "        prediction = model.predict(img)\n",
    "        print(\"------------------\")\n",
    "        print(\"The predicted output for image\", x, \"is:\", np.argmax(prediction))\n",
    "        print(\"------------------\")\n",
    "        plt.figure(figsize=(2, 2))\n",
    "        plt.imshow(img[0], cmap=plt.cm.binary)\n",
    "        plt.show()\n",
    "    except Exception as e:\n",
    "        print(f\"Error processing image: HandWriting4/{x}.png\")\n",
    "        print(e)\n"
   ]
  },
  {
   "cell_type": "code",
   "execution_count": 190,
   "id": "4c8362c1-74dd-4aa6-b722-5bdae75573ec",
   "metadata": {},
   "outputs": [
    {
     "name": "stdout",
     "output_type": "stream",
     "text": [
      "\u001b[1m313/313\u001b[0m \u001b[32m━━━━━━━━━━━━━━━━━━━━\u001b[0m\u001b[37m\u001b[0m \u001b[1m1s\u001b[0m 3ms/step - accuracy: 0.9805 - loss: 0.0624\n",
      "Overall Accuracy: 0.9837999939918518\n",
      "Overall Loss: 0.051157575100660324\n"
     ]
    }
   ],
   "source": [
    "loss, accuracy = model.evaluate(x_test, y_test)\n",
    "print(\"Overall Accuracy:\", accuracy)\n",
    "print(\"Overall Loss:\", loss)"
   ]
  },
  {
   "cell_type": "code",
   "execution_count": 191,
   "id": "2168f89f-6955-49e1-8680-8001f192b1f3",
   "metadata": {},
   "outputs": [],
   "source": [
    "images=np.array(images)\n",
    "class_names=np.array(class_names)\n",
    "class_names = to_categorical(class_names, num_classes)"
   ]
  },
  {
   "cell_type": "code",
   "execution_count": 192,
   "id": "72ca4376-1141-4198-967e-f921f86a0d25",
   "metadata": {},
   "outputs": [
    {
     "data": {
      "image/png": "[encoded data removed]",
      "text/plain": [
       "<Figure size 800x550 with 9 Axes>"
      ]
     },
     "metadata": {},
     "output_type": "display_data"
    }
   ],
   "source": [
    "n=images.shape[0]\n",
    "if np.mod(n,10)==0:\n",
    "    k=n//10\n",
    "else:\n",
    "    k=n//10+1\n",
    "for i in range (0,n):\n",
    "    plt.subplot(k,10,1 + i)\n",
    "    plt.imshow(images[i].reshape(28,28),cmap=plt.get_cmap('gray'))\n",
    "plt.show()"
   ]
  },
  {
   "cell_type": "code",
   "execution_count": null,
   "id": "8326c65e-b9e0-4f19-b09b-a1f1f2d163fa",
   "metadata": {},
   "outputs": [],
   "source": []
  }
 ],
 "metadata": {
  "kernelspec": {
   "display_name": "Python 3 (ipykernel)",
   "language": "python",
   "name": "python3"
  },
  "language_info": {
   "codemirror_mode": {
    "name": "ipython",
    "version": 3
   },
   "file_extension": ".py",
   "mimetype": "text/x-python",
   "name": "python",
   "nbconvert_exporter": "python",
   "pygments_lexer": "ipython3",
   "version": "3.12.2"
  }
 },
 "nbformat": 4,
 "nbformat_minor": 5
}
