{
 "cells": [
  {
   "cell_type": "code",
   "execution_count": null,
   "id": "464a627f-4233-4452-8b5e-aafc5370ba5c",
   "metadata": {
    "tags": []
   },
   "outputs": [],
   "source": [
    "import pandas as pd\n",
    "import matplotlib.pyplot as plt\n",
    "\n",
    "full = pd.read_csv(\"movies.csv\")\n",
    "full = full.dropna()\n",
    "full['title_year'] = full['title_year'].astype(int)\n",
    "\n",
    "title_years = full['title_year']\n",
    "year_counts = title_years.value_counts()\n",
    "year_counts = year_counts.sort_index()\n",
    "\n",
    "plt.figure(figsize=(10, 6))\n",
    "year_counts.plot(kind='bar')\n",
    "plt.xlabel('Year')\n",
    "plt.ylabel('Number of Movies')\n",
    "plt.title('Number of Movies Released Each Year')\n",
    "plt.show()\n"
   ]
  },
  {
   "cell_type": "code",
   "execution_count": null,
   "id": "369a65b5-b595-4cf5-8393-034e5bceaa7f",
   "metadata": {},
   "outputs": [],
   "source": []
  }
 ],
 "metadata": {
  "kernelspec": {
   "display_name": "Python 3 (ipykernel)",
   "language": "python",
   "name": "python3"
  },
  "language_info": {
   "codemirror_mode": {
    "name": "ipython",
    "version": 3
   },
   "file_extension": ".py",
   "mimetype": "text/x-python",
   "name": "python",
   "nbconvert_exporter": "python",
   "pygments_lexer": "ipython3",
   "version": "3.7.12"
  }
 },
 "nbformat": 4,
 "nbformat_minor": 5
}
