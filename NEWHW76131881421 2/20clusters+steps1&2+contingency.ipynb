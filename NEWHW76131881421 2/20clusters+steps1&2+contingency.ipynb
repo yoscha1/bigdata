{
 "cells": [
  {
   "cell_type": "code",
   "execution_count": null,
   "id": "53b7e4d0-7919-4fee-b3c4-093fd99a0b4c",
   "metadata": {
    "tags": []
   },
   "outputs": [],
   "source": [
    "import pandas as pd\n",
    "import numpy as np\n",
    "full = pd.read_csv(\"movies.csv\")\n",
    "full.value_counts()\n",
    "numeric_columns = full.select_dtypes(include=[np.number]).columns\n",
    "full[numeric_columns] = full[numeric_columns].astype(float)\n",
    "full = full.fillna(0)\n",
    "full"
   ]
  },
  {
   "cell_type": "code",
   "execution_count": null,
   "id": "53ac5dd8-548c-4a42-9630-380727aa58f3",
   "metadata": {
    "tags": []
   },
   "outputs": [],
   "source": [
    "import matplotlib.pyplot as plt\n",
    "import pandas as pd\n",
    "import seaborn as sns\n",
    "from kneed import KneeLocator\n",
    "from sklearn.datasets import make_blobs\n",
    "from sklearn.cluster import KMeans\n",
    "from sklearn.metrics import silhouette_score\n",
    "from sklearn.preprocessing import StandardScaler\n",
    "\n",
    "full = pd.read_csv(\"movies.csv\")\n",
    "full.dropna(inplace=True)\n",
    "scaler = StandardScaler()\n",
    "full[['num_critic_for_reviews_T', 'duration_T', 'director_facebook_likes_T', 'actor_3_facebook_likes_T', 'actor_1_facebook_likes_T', 'gross_T', 'num_voted_users_T', 'cast_total_facebook_likes_T', 'num_user_for_reviews_T', 'budget_T', 'title_year_T', 'actor_2_facebook_likes_T', 'imdb_score_T', 'aspect_ratio_T', 'movie_facebook_likes_T' ]] = scaler.fit_transform(full[['num_critic_for_reviews', 'duration', 'director_facebook_likes', 'actor_3_facebook_likes', 'actor_1_facebook_likes', 'gross', 'num_voted_users', 'cast_total_facebook_likes', 'num_user_for_reviews', 'budget', 'title_year', 'actor_2_facebook_likes', 'imdb_score', 'aspect_ratio', 'movie_facebook_likes' ]])\n",
    "\n",
    "def optimise_k_means(data, max_k):\n",
    "    means = []\n",
    "    inertias = []\n",
    "\n",
    "    for k in range(1, max_k):\n",
    "        kmeans=KMeans(n_clusters=k)\n",
    "        kmeans.fit(data)\n",
    "\n",
    "        means.append(k)\n",
    "        inertias.append(kmeans.inertia_)\n",
    "\n",
    "    fig, ax = plt.subplots(figsize=(10,5))\n",
    "    ax.plot(means, inertias, 'o-')\n",
    "    ax.set_xlabel('Number of Clusters')\n",
    "    ax.set_ylabel('Inertia')\n",
    "    ax.grid(True)\n",
    "    plt.show()\n",
    "\n",
    "optimise_k_means(full[['num_critic_for_reviews_T', 'duration_T', 'director_facebook_likes_T', 'actor_3_facebook_likes_T', 'actor_1_facebook_likes_T', 'gross_T', 'num_voted_users_T', 'cast_total_facebook_likes_T', 'num_user_for_reviews_T', 'budget_T', 'title_year_T', 'actor_2_facebook_likes_T', 'imdb_score_T', 'aspect_ratio_T', 'movie_facebook_likes_T']], 100)\n",
    "\n",
    "kmeans = KMeans(n_clusters=20)\n",
    "kmeans.fit(full[['num_critic_for_reviews_T', 'duration_T', 'director_facebook_likes_T', 'actor_3_facebook_likes_T', 'actor_1_facebook_likes_T', 'gross_T', 'num_voted_users_T', 'cast_total_facebook_likes_T', 'num_user_for_reviews_T', 'budget_T', 'title_year_T', 'actor_2_facebook_likes_T', 'imdb_score_T', 'aspect_ratio_T', 'movie_facebook_likes_T']])\n",
    "\n",
    "full['kmeans_20']=kmeans.labels_\n",
    "t_columns = [col for col in full.columns if '_T' in col]\n",
    "\n",
    "for i in range(len(t_columns)):\n",
    "    for j in range(i+1, len(t_columns)):\n",
    "        plt.figure(figsize=(8, 6))\n",
    "        plt.scatter(full[t_columns[i]], full[t_columns[j]], c=full['kmeans_20'], cmap='viridis', alpha=0.5)\n",
    "        plt.xlabel(t_columns[i])\n",
    "        plt.ylabel(t_columns[j])\n",
    "        plt.title(f'Scatter Plot of {t_columns[i]} vs {t_columns[j]}')\n",
    "        plt.colorbar(label='Cluster')\n",
    "        plt.show()\n"
   ]
  },
  {
   "cell_type": "code",
   "execution_count": null,
   "id": "1a8cefa7-c9fa-4b90-8359-8ec06a54321a",
   "metadata": {
    "tags": []
   },
   "outputs": [],
   "source": [
    "\n",
    "import pandas as pd\n",
    "import matplotlib.pyplot as plt\n",
    "import numpy as np\n",
    "from sklearn.cluster import KMeans\n",
    "from sklearn.preprocessing import scale\n",
    "from sklearn.metrics.cluster import contingency_matrix\n",
    "\n",
    "\n",
    "ful = pd.read_csv(\"movies.csv\")\n",
    "full = ful.fillna(0)\n",
    "full.to_numpy()\n",
    "numeric_columns = full.select_dtypes(include=[np.number])\n",
    "normalized_columns = scale(numeric_columns)\n",
    "normalized_df = pd.DataFrame(normalized_columns, columns=numeric_columns.columns)\n",
    "\n",
    "full_subset = full.iloc[:500]\n",
    "normalized_df.to_numpy()\n",
    "normalized_subset = normalized_df.iloc[:500]\n",
    "model = KMeans(n_clusters=3)\n",
    "model = model.fit(scale(normalized_subset))\n",
    "print(model.labels_)\n",
    "\n",
    "labels_pred = model.fit_predict(scale(normalized_subset))\n",
    "labels_true = labels_pred\n",
    "\n",
    "contingency_matrix = contingency_matrix(labels_true, labels_pred)\n",
    "\n",
    "print(\"Contingency Matrix:\")\n",
    "print(contingency_matrix)"
   ]
  },
  {
   "cell_type": "code",
   "execution_count": null,
   "id": "065e6ece-678e-4887-b8fb-c793bc0a145d",
   "metadata": {},
   "outputs": [],
   "source": []
  }
 ],
 "metadata": {
  "kernelspec": {
   "display_name": "Python 3 (ipykernel)",
   "language": "python",
   "name": "python3"
  },
  "language_info": {
   "codemirror_mode": {
    "name": "ipython",
    "version": 3
   },
   "file_extension": ".py",
   "mimetype": "text/x-python",
   "name": "python",
   "nbconvert_exporter": "python",
   "pygments_lexer": "ipython3",
   "version": "3.7.12"
  }
 },
 "nbformat": 4,
 "nbformat_minor": 5
}
