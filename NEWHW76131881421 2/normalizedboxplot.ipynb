{
 "cells": [
  {
   "cell_type": "code",
   "execution_count": null,
   "id": "87b6e51a-a402-4a06-9d69-c127915ad11d",
   "metadata": {
    "tags": []
   },
   "outputs": [],
   "source": [
    "\n",
    "import pandas as pd\n",
    "import matplotlib.pyplot as plt\n",
    "import numpy as np\n",
    "from sklearn.cluster import KMeans\n",
    "from sklearn.preprocessing import scale\n",
    "from sklearn.metrics.cluster import contingency_matrix\n",
    "\n",
    "\n",
    "full = pd.read_csv(\"movies.csv\")\n",
    "full = full.dropna()\n",
    "numeric_columns = full.select_dtypes(include=[np.number])\n",
    "normalized_columns = scale(numeric_columns)\n",
    "normalized_df = pd.DataFrame(normalized_columns, columns=numeric_columns.columns)\n",
    "\n",
    "z_scores = (normalized_df - normalized_df.mean()) / normalized_df.std()\n",
    "threshold = 3\n",
    "outliers = (z_scores > threshold).any(axis=1)\n",
    "cleaned_data = normalized_df[~outliers]\n",
    "model = KMeans(n_clusters=3)\n",
    "model = model.fit(scale(cleaned_data))\n",
    "\n",
    "plt.boxplot(cleaned_data)\n",
    "plt.xticks(range(1, len(cleaned_data.columns) + 1), cleaned_data.columns, rotation=90)\n",
    "plt.ylabel('Normalized Values')\n",
    "plt.title('Box Plot of Normalized Data')\n",
    "plt.xlabel('Index')\n",
    "plt.ylabel('Values')\n",
    "plt.legend()\n",
    "plt.show()\n",
    "\n",
    "\n"
   ]
  },
  {
   "cell_type": "code",
   "execution_count": null,
   "id": "24beb002-a3c0-4cb5-983f-3282872ddcca",
   "metadata": {},
   "outputs": [],
   "source": []
  }
 ],
 "metadata": {
  "kernelspec": {
   "display_name": "Python 3 (ipykernel)",
   "language": "python",
   "name": "python3"
  },
  "language_info": {
   "codemirror_mode": {
    "name": "ipython",
    "version": 3
   },
   "file_extension": ".py",
   "mimetype": "text/x-python",
   "name": "python",
   "nbconvert_exporter": "python",
   "pygments_lexer": "ipython3",
   "version": "3.7.12"
  }
 },
 "nbformat": 4,
 "nbformat_minor": 5
}
