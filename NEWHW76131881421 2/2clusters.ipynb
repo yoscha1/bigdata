{
 "cells": [
  {
   "cell_type": "code",
   "execution_count": null,
   "id": "7d02e74b-c32d-41c3-9bd2-ac8a38118453",
   "metadata": {
    "tags": []
   },
   "outputs": [],
   "source": [
    "import matplotlib.pyplot as plt\n",
    "import pandas as pd\n",
    "import seaborn as sns\n",
    "from kneed import KneeLocator\n",
    "from sklearn.datasets import make_blobs\n",
    "from sklearn.cluster import KMeans\n",
    "from sklearn.metrics import silhouette_score\n",
    "from sklearn.preprocessing import StandardScaler\n",
    "\n",
    "# Load the data\n",
    "data = pd.read_csv(\"movies.csv\")\n",
    "data.dropna(inplace=True)\n",
    "print(data.describe())\n",
    "scaler = StandardScaler()\n",
    "\n",
    "features = ['duration', 'director_facebook_likes', 'actor_1_facebook_likes', 'actor_2_facebook_likes', \n",
    "            'actor_3_facebook_likes', 'num_critic_for_reviews', 'num_voted_users', 'cast_total_facebook_likes', \n",
    "            'gross', 'budget', 'title_year', 'imdb_score', 'movie_facebook_likes']\n",
    "\n",
    "X = data[features]\n",
    "\n",
    "scaler = StandardScaler()\n",
    "X_scaled = scaler.fit_transform(X)\n",
    "\n",
    "kmeans = KMeans(n_clusters=2, random_state=42)\n",
    "kmeans.fit(X_scaled)\n",
    "\n",
    "data['cluster'] = kmeans.labels_\n",
    "\n",
    "# Analyze the results\n",
    "cluster_centers = pd.DataFrame(kmeans.cluster_centers_, columns=features)\n",
    "print(\"Cluster Centers:\")\n",
    "print(cluster_centers)\n",
    "cluster_counts = data['cluster'].value_counts()\n",
    "print(\"\\nCluster Counts:\")\n",
    "data['cluster']=kmeans.labels_\n",
    "print(data['cluster'])\n",
    "\n",
    "data['cluster']=kmeans.labels_\n",
    "print(data['cluster'])\n",
    "t_columns = [col for col in X.columns]\n",
    "\n",
    "for i in range(len(t_columns)):\n",
    "    for j in range(i+1, len(t_columns)):\n",
    "        plt.figure(figsize=(8, 6))\n",
    "        plt.scatter(X[t_columns[i]], data[t_columns[j]], c=data['cluster'], cmap='viridis', alpha=0.5)\n",
    "        plt.xlabel(t_columns[i])\n",
    "        plt.ylabel(t_columns[j])\n",
    "        plt.title(f'Scatter Plot of {t_columns[i]} vs {t_columns[j]}')\n",
    "        plt.colorbar(label='Cluster')\n",
    "        plt.show()"
   ]
  },
  {
   "cell_type": "code",
   "execution_count": null,
   "id": "5eeda41f-f0c2-4034-8b3e-d92b1c3fa224",
   "metadata": {},
   "outputs": [],
   "source": []
  }
 ],
 "metadata": {
  "kernelspec": {
   "display_name": "Python 3 (ipykernel)",
   "language": "python",
   "name": "python3"
  },
  "language_info": {
   "codemirror_mode": {
    "name": "ipython",
    "version": 3
   },
   "file_extension": ".py",
   "mimetype": "text/x-python",
   "name": "python",
   "nbconvert_exporter": "python",
   "pygments_lexer": "ipython3",
   "version": "3.7.12"
  }
 },
 "nbformat": 4,
 "nbformat_minor": 5
}
